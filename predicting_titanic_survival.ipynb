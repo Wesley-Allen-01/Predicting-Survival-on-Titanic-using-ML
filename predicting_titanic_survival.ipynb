{
  "nbformat": 4,
  "nbformat_minor": 0,
  "metadata": {
    "colab": {
      "provenance": [],
      "authorship_tag": "ABX9TyO3D4BEZ0IY0NtSpYxHbyhW",
      "include_colab_link": true
    },
    "kernelspec": {
      "name": "python3",
      "display_name": "Python 3"
    },
    "language_info": {
      "name": "python"
    }
  },
  "cells": [
    {
      "cell_type": "markdown",
      "metadata": {
        "id": "view-in-github",
        "colab_type": "text"
      },
      "source": [
        "<a href=\"https://colab.research.google.com/github/weal2937/Predicting-Survival-on-Titanic-using-ML/blob/main/predicting_titanic_survival.ipynb\" target=\"_parent\"><img src=\"https://colab.research.google.com/assets/colab-badge.svg\" alt=\"Open In Colab\"/></a>"
      ]
    },
    {
      "cell_type": "markdown",
      "source": [
        "# Using Machine Learning to Predict the Survival of Passengers on the Titanic\n",
        "\n",
        "The goal of this project was to further my experience working with the Tensorflow library and also develop my data manipulation skills. I used the standard titanic dataset from seaborn, and after some manipulation, fed the data into a Sequential Neural Network. I then tested the model on a portion of unseen data from the dataset and received an 99% accuracy score. "
      ],
      "metadata": {
        "id": "RL9yjQvCAd_J"
      }
    },
    {
      "cell_type": "code",
      "execution_count": 25,
      "metadata": {
        "id": "rm44ywvQs09L"
      },
      "outputs": [],
      "source": [
        "import numpy as np\n",
        "import pandas as pd \n",
        "import seaborn as sns\n",
        "from sklearn.model_selection import train_test_split \n",
        "from sklearn.preprocessing import StandardScaler \n",
        "from sklearn.metrics import accuracy_score\n",
        "from sklearn.metrics import confusion_matrix\n",
        "import tensorflow as tf \n",
        "from tensorflow import keras"
      ]
    },
    {
      "cell_type": "markdown",
      "source": [
        "The code above imports the necessary libraries for this project. numpy and pandas will assist in data handling. matplotlib and seaborn will assist  in data visualization. sklearn will assist with data preprocessing and model evaluation. Tensorflow and keras will assist with developing our neural network."
      ],
      "metadata": {
        "id": "B_nX826Ctm7Q"
      }
    },
    {
      "cell_type": "code",
      "source": [
        "titanic = sns.load_dataset('titanic')\n",
        "titanic.head()\n",
        "titanic.info()\n",
        "titanic.describe()\n",
        "print(titanic.columns)"
      ],
      "metadata": {
        "colab": {
          "base_uri": "https://localhost:8080/"
        },
        "id": "N8iWFWA8tTon",
        "outputId": "0c85057e-8ede-4d50-d96a-47357d582931"
      },
      "execution_count": 26,
      "outputs": [
        {
          "output_type": "stream",
          "name": "stdout",
          "text": [
            "<class 'pandas.core.frame.DataFrame'>\n",
            "RangeIndex: 891 entries, 0 to 890\n",
            "Data columns (total 15 columns):\n",
            " #   Column       Non-Null Count  Dtype   \n",
            "---  ------       --------------  -----   \n",
            " 0   survived     891 non-null    int64   \n",
            " 1   pclass       891 non-null    int64   \n",
            " 2   sex          891 non-null    object  \n",
            " 3   age          714 non-null    float64 \n",
            " 4   sibsp        891 non-null    int64   \n",
            " 5   parch        891 non-null    int64   \n",
            " 6   fare         891 non-null    float64 \n",
            " 7   embarked     889 non-null    object  \n",
            " 8   class        891 non-null    category\n",
            " 9   who          891 non-null    object  \n",
            " 10  adult_male   891 non-null    bool    \n",
            " 11  deck         203 non-null    category\n",
            " 12  embark_town  889 non-null    object  \n",
            " 13  alive        891 non-null    object  \n",
            " 14  alone        891 non-null    bool    \n",
            "dtypes: bool(2), category(2), float64(2), int64(4), object(5)\n",
            "memory usage: 80.7+ KB\n",
            "Index(['survived', 'pclass', 'sex', 'age', 'sibsp', 'parch', 'fare',\n",
            "       'embarked', 'class', 'who', 'adult_male', 'deck', 'embark_town',\n",
            "       'alive', 'alone'],\n",
            "      dtype='object')\n"
          ]
        }
      ]
    },
    {
      "cell_type": "markdown",
      "source": [
        "Using Seaborn's built-in Titanic dataset, I first explored the data to get a feel for what I was working with. I observed that the dataset has 891 entries and 15 columns for each. It also displays the data type for each of the columns as well as the memory being occupied by the data frame."
      ],
      "metadata": {
        "id": "dACSl5Pb2rpc"
      }
    },
    {
      "cell_type": "code",
      "source": [
        "titanic['age'] = titanic['age'].fillna(titanic['age'].median())\n",
        "titanic = pd.get_dummies(titanic, drop_first=True)\n",
        "X = titanic.drop('survived', axis=1)\n",
        "y = titanic['survived']\n",
        "X_train, X_test, y_train, y_test = train_test_split(X, y, test_size = 0.2, random_state=42 )\n",
        "\n",
        "scaler = StandardScaler()\n",
        "X_train_scaled = scaler.fit_transform(X_train)\n",
        "X_test_scaled = scaler.transform(X_test)"
      ],
      "metadata": {
        "id": "ETGUeOoQuLCe"
      },
      "execution_count": 27,
      "outputs": []
    },
    {
      "cell_type": "markdown",
      "source": [
        "Of my 891 entries, only 714 have a non-null age value. To get around this, I simply replaced all of the missing age values with the median age of the data frame. In order for the data to be fit for the NN, I had to convert each of the categorical variables to dummy variables using one-hot encoding. I then assigned a copy of the data frame stripped of the'survived' column to X and assign the 'survived' column to y. y will serve as the target variable. The train_test_split() function is used to split the dataset into training and test subsets where 20% of the entries are allocated to the testing set and 80% to the training set. I then scaled the data to have zero mean and unit variance using the StandardScaler() class. "
      ],
      "metadata": {
        "id": "84NWb_Nm4osS"
      }
    },
    {
      "cell_type": "code",
      "source": [
        "model = keras.Sequential([\n",
        "    keras.layers.Dense(64, activation='relu', input_shape=[X_train.shape[1]]),\n",
        "    keras.layers.Dense(64, activation='relu'),\n",
        "    keras.layers.Dense(1, activation='sigmoid')\n",
        "])\n",
        "model.compile(optimizer='adam', loss='binary_crossentropy', metrics=['accuracy'])\n",
        "history = model.fit(X_train_scaled, y_train, epochs=15, validation_split=0.2)"
      ],
      "metadata": {
        "colab": {
          "base_uri": "https://localhost:8080/"
        },
        "id": "7DPpfds5wzKq",
        "outputId": "d0f10c45-e7c1-43ca-dc19-344e600b2db8"
      },
      "execution_count": 28,
      "outputs": [
        {
          "output_type": "stream",
          "name": "stdout",
          "text": [
            "Epoch 1/15\n",
            "18/18 [==============================] - 1s 16ms/step - loss: 0.6557 - accuracy: 0.6960 - val_loss: 0.5039 - val_accuracy: 0.8951\n",
            "Epoch 2/15\n",
            "18/18 [==============================] - 0s 4ms/step - loss: 0.4294 - accuracy: 0.9104 - val_loss: 0.3257 - val_accuracy: 0.9371\n",
            "Epoch 3/15\n",
            "18/18 [==============================] - 0s 4ms/step - loss: 0.2849 - accuracy: 0.9209 - val_loss: 0.2081 - val_accuracy: 0.9441\n",
            "Epoch 4/15\n",
            "18/18 [==============================] - 0s 4ms/step - loss: 0.1818 - accuracy: 0.9613 - val_loss: 0.1278 - val_accuracy: 0.9860\n",
            "Epoch 5/15\n",
            "18/18 [==============================] - 0s 4ms/step - loss: 0.1052 - accuracy: 0.9877 - val_loss: 0.0754 - val_accuracy: 1.0000\n",
            "Epoch 6/15\n",
            "18/18 [==============================] - 0s 5ms/step - loss: 0.0580 - accuracy: 0.9982 - val_loss: 0.0462 - val_accuracy: 1.0000\n",
            "Epoch 7/15\n",
            "18/18 [==============================] - 0s 4ms/step - loss: 0.0326 - accuracy: 1.0000 - val_loss: 0.0308 - val_accuracy: 1.0000\n",
            "Epoch 8/15\n",
            "18/18 [==============================] - 0s 4ms/step - loss: 0.0200 - accuracy: 1.0000 - val_loss: 0.0240 - val_accuracy: 1.0000\n",
            "Epoch 9/15\n",
            "18/18 [==============================] - 0s 5ms/step - loss: 0.0133 - accuracy: 1.0000 - val_loss: 0.0196 - val_accuracy: 0.9930\n",
            "Epoch 10/15\n",
            "18/18 [==============================] - 0s 4ms/step - loss: 0.0094 - accuracy: 1.0000 - val_loss: 0.0173 - val_accuracy: 0.9930\n",
            "Epoch 11/15\n",
            "18/18 [==============================] - 0s 4ms/step - loss: 0.0070 - accuracy: 1.0000 - val_loss: 0.0155 - val_accuracy: 0.9930\n",
            "Epoch 12/15\n",
            "18/18 [==============================] - 0s 4ms/step - loss: 0.0054 - accuracy: 1.0000 - val_loss: 0.0145 - val_accuracy: 0.9930\n",
            "Epoch 13/15\n",
            "18/18 [==============================] - 0s 5ms/step - loss: 0.0044 - accuracy: 1.0000 - val_loss: 0.0140 - val_accuracy: 0.9930\n",
            "Epoch 14/15\n",
            "18/18 [==============================] - 0s 4ms/step - loss: 0.0036 - accuracy: 1.0000 - val_loss: 0.0139 - val_accuracy: 0.9930\n",
            "Epoch 15/15\n",
            "18/18 [==============================] - 0s 5ms/step - loss: 0.0030 - accuracy: 1.0000 - val_loss: 0.0135 - val_accuracy: 0.9930\n"
          ]
        }
      ]
    },
    {
      "cell_type": "markdown",
      "source": [
        "Now for the fun part. I initialized a Sequential model in the first line. The model has 3 dense layers. The first and second each have 64 neurons and uses the ReLU activation function. The last layer has only neuron and uses the sigmoid activartion function. This will be the neurons that is activated if the entity is predicted to survive and is not activated if they are not predicted to survive. I compiled the model using the adam optimizer and the binary_crossentropy loss function. The model will be evaluated based on accuracy. Lastly, I trained the model for 15 epochs and assign the History object returned from the model.fit(...) function to the variable history. "
      ],
      "metadata": {
        "id": "2bzdqouv8rzT"
      }
    },
    {
      "cell_type": "code",
      "source": [
        "y_pred = (model.predict(X_test_scaled) > 0.5).astype(\"int32\")\n",
        "\n",
        "accuracy = accuracy_score(y_test, y_pred)\n",
        "print(\"Accuracy: \", accuracy)\n",
        "\n",
        "cm = confusion_matrix(y_test, y_pred)\n",
        "sns.heatmap(cm, annot=True, fmt='d')"
      ],
      "metadata": {
        "colab": {
          "base_uri": "https://localhost:8080/",
          "height": 482
        },
        "id": "QCW3sqHLzeTO",
        "outputId": "167c1084-9c07-4017-fe5d-e0f2a1ba2e8a"
      },
      "execution_count": 29,
      "outputs": [
        {
          "output_type": "stream",
          "name": "stdout",
          "text": [
            "6/6 [==============================] - 0s 2ms/step\n",
            "Accuracy:  0.994413407821229\n"
          ]
        },
        {
          "output_type": "execute_result",
          "data": {
            "text/plain": [
              "<Axes: >"
            ]
          },
          "metadata": {},
          "execution_count": 29
        },
        {
          "output_type": "display_data",
          "data": {
            "text/plain": [
              "<Figure size 640x480 with 2 Axes>"
            ],
            "image/png": "[encoded data removed]"
          },
          "metadata": {}
        }
      ]
    },
    {
      "cell_type": "markdown",
      "source": [
        "My model received an 99% accuracy on the test data, meaning that it correctly predicted whether a passenger on the titanic survived or not. Overall, I'm proud of the performance of the model. I enjoyed the data manipulation of this project the most, and I'm excited for many more projects in the future."
      ],
      "metadata": {
        "id": "A6wemRsu_sBi"
      }
    }
  ]
}